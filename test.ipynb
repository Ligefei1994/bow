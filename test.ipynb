{
 "cells": [
  {
   "cell_type": "code",
   "execution_count": null,
   "metadata": {},
   "outputs": [],
   "source": [
    "import argparse as ap  \n",
    "import opencv \n",
    "import imutils  \n",
    "import numpy as np  \n",
    "import os  \n",
    "from sklearn.externals import joblib  \n",
    "from scipy.cluster.vq import *  \n",
    "from sklearn import preprocessing  \n",
    "import math  \n",
    "import sys  \n",
    "import numpy  \n",
    "from sklearn import metrics  \n",
    "from sklearn.feature_extraction.text import HashingVectorizer  \n",
    "from sklearn.feature_extraction.text import TfidfVectorizer  \n",
    "from sklearn.naive_bayes import MultinomialNB  \n",
    "from sklearn.feature_extraction.text import  CountVectorizer,TfidfTransformer  \n",
    "from sklearn.neighbors import KNeighborsClassifier  \n",
    "from sklearn.svm import SVC  \n",
    "from sklearn.svm import LinearSVC  \n",
    "import codecs  \n",
    "from sklearn.feature_selection import SelectPercentile, f_classif  \n",
    "from sklearn.feature_selection import SelectKBest  \n",
    "from sklearn.feature_selection import chi2  \n",
    "from sklearn import cross_validation  \n"
   ]
  }
 ],
 "metadata": {
  "kernelspec": {
   "display_name": "Python 2",
   "language": "python",
   "name": "python2"
  },
  "language_info": {
   "codemirror_mode": {
    "name": "ipython",
    "version": 2
   },
   "file_extension": ".py",
   "mimetype": "text/x-python",
   "name": "python",
   "nbconvert_exporter": "python",
   "pygments_lexer": "ipython2",
   "version": "2.7.6"
  }
 },
 "nbformat": 4,
 "nbformat_minor": 0
}
