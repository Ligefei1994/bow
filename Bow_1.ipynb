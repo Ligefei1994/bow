{
 "cells": [
  {
   "cell_type": "code",
   "execution_count": null,
   "metadata": {},
   "outputs": [],
   "source": [
    "import argparse as ap  \n",
    "import cv2  \n",
    "import imutils  \n",
    "import numpy as np  \n",
    "import os  \n",
    "from sklearn.externals import joblib  \n",
    "from scipy.cluster.vq import *  \n",
    "from sklearn import preprocessing  \n",
    "import math  \n",
    "import sys  \n",
    "import numpy  \n",
    "from sklearn import metrics  \n",
    "from sklearn.feature_extraction.text import HashingVectorizer  \n",
    "from sklearn.feature_extraction.text import TfidfVectorizer  \n",
    "from sklearn.naive_bayes import MultinomialNB  \n",
    "from sklearn.feature_extraction.text import  CountVectorizer,TfidfTransformer  \n",
    "from sklearn.neighbors import KNeighborsClassifier  \n",
    "from sklearn.svm import SVC  \n",
    "from sklearn.svm import LinearSVC  \n",
    "import codecs  \n",
    "from sklearn.feature_selection import SelectPercentile, f_classif  \n",
    "from sklearn.feature_selection import SelectKBest  \n",
    "from sklearn.feature_selection import chi2  \n",
    "from sklearn import cross_validation  "
   ]
  }
 ],
 "metadata": {},
 "nbformat": 4,
 "nbformat_minor": 2
}
